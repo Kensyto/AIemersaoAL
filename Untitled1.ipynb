{
  "nbformat": 4,
  "nbformat_minor": 0,
  "metadata": {
    "colab": {
      "provenance": [],
      "authorship_tag": "ABX9TyOVvqAVoNsvh9/k2bRTOdLs",
      "include_colab_link": true
    },
    "kernelspec": {
      "name": "python3",
      "display_name": "Python 3"
    },
    "language_info": {
      "name": "python"
    }
  },
  "cells": [
    {
      "cell_type": "markdown",
      "metadata": {
        "id": "view-in-github",
        "colab_type": "text"
      },
      "source": [
        "<a href=\"https://colab.research.google.com/github/Kensyto/AIemersaoAL/blob/main/Untitled1.ipynb\" target=\"_parent\"><img src=\"https://colab.research.google.com/assets/colab-badge.svg\" alt=\"Open In Colab\"/></a>"
      ]
    },
    {
      "cell_type": "markdown",
      "source": [
        "Instalando o SDK do Google"
      ],
      "metadata": {
        "id": "UIkxAhYh4IFN"
      }
    },
    {
      "cell_type": "code",
      "execution_count": 1,
      "metadata": {
        "id": "i3FcCrsyR3H9"
      },
      "outputs": [],
      "source": [
        "!pip install -q -U google-generativeai"
      ]
    },
    {
      "cell_type": "code",
      "source": [
        "# Import the Python SDK\n",
        "import google.generativeai as genai\n",
        "from google.colab import userdata\n",
        "api_key = userdata.get('SECRET_KEY')\n",
        "\n",
        "\n",
        "genai.configure(api_key=api_key)"
      ],
      "metadata": {
        "id": "TVJPxz4B4gGY"
      },
      "execution_count": 16,
      "outputs": []
    },
    {
      "cell_type": "markdown",
      "source": [
        "Listar os modelos disponiveis"
      ],
      "metadata": {
        "id": "YndL5PvY4sz9"
      }
    },
    {
      "cell_type": "code",
      "source": [
        "for m in genai.list_models():\n",
        "  if 'generateContent' in m.supported_generation_methods:\n",
        "    print(m.name)"
      ],
      "metadata": {
        "colab": {
          "base_uri": "https://localhost:8080/",
          "height": 139
        },
        "id": "qcxvYa_L4sdh",
        "outputId": "85ece6e1-9426-492e-972d-ecbde84fb0e2"
      },
      "execution_count": 5,
      "outputs": [
        {
          "output_type": "stream",
          "name": "stdout",
          "text": [
            "models/gemini-1.0-pro\n",
            "models/gemini-1.0-pro-001\n",
            "models/gemini-1.0-pro-latest\n",
            "models/gemini-1.0-pro-vision-latest\n",
            "models/gemini-1.5-pro-latest\n",
            "models/gemini-pro\n",
            "models/gemini-pro-vision\n"
          ]
        }
      ]
    },
    {
      "cell_type": "code",
      "source": [
        "generation_config = {\n",
        "    \"candidate_count\": 1,\n",
        "    \"temperature\": 0.5,\n",
        "}"
      ],
      "metadata": {
        "id": "0VtD5edW7Tlj"
      },
      "execution_count": 6,
      "outputs": []
    },
    {
      "cell_type": "code",
      "source": [
        "safety_settings = {\n",
        "    \"HARASSMENT\": \"BLOCK_NONE\",\n",
        "    \"HATE\": \"BLOCK_NONE\",\n",
        "    \"SEXUAL\": \"BLOCK_NONE\",\n",
        "    \"DANGEROUS\": \"BLOCK_NONE\",\n",
        "}"
      ],
      "metadata": {
        "id": "WrfIXdtG8Bm0"
      },
      "execution_count": 7,
      "outputs": []
    },
    {
      "cell_type": "markdown",
      "source": [
        "Inicializando o modelo"
      ],
      "metadata": {
        "id": "1v03rBDU9A1Q"
      }
    },
    {
      "cell_type": "code",
      "source": [
        "model = genai.GenerativeModel(model_name=\"gemini-1.0-pro\",\n",
        "                              generation_config=generation_config,\n",
        "                              safety_settings=safety_settings)"
      ],
      "metadata": {
        "id": "DDEQ7Sm79EkI"
      },
      "execution_count": 8,
      "outputs": []
    },
    {
      "cell_type": "code",
      "source": [
        "response = model.generate_content(\"Vamos aprender conteudo sobre IA. Me dê sugestões.\")\n",
        "print(response.text)"
      ],
      "metadata": {
        "colab": {
          "base_uri": "https://localhost:8080/",
          "height": 694
        },
        "id": "mhFGdh6i-BJh",
        "outputId": "8645d1d5-db50-497d-b62b-697976f1ec40"
      },
      "execution_count": 9,
      "outputs": [
        {
          "output_type": "stream",
          "name": "stdout",
          "text": [
            "**Conceitos Fundamentais de IA**\n",
            "\n",
            "* Definição e história da IA\n",
            "* Tipos de IA (por exemplo, aprendizado de máquina, aprendizado profundo, processamento de linguagem natural)\n",
            "* Algoritmos e técnicas de IA\n",
            "* Ética e implicações sociais da IA\n",
            "\n",
            "**Aprendizado de Máquina**\n",
            "\n",
            "* Conceitos de aprendizado de máquina (por exemplo, dados, recursos, modelos)\n",
            "* Tipos de aprendizado de máquina (por exemplo, supervisionado, não supervisionado, reforço)\n",
            "* Algoritmos de aprendizado de máquina (por exemplo, regressão linear, árvores de decisão, redes neurais)\n",
            "* Avaliação e implantação de modelos de aprendizado de máquina\n",
            "\n",
            "**Aprendizado Profundo**\n",
            "\n",
            "* Introdução ao aprendizado profundo\n",
            "* Redes neurais (por exemplo, redes convolucionais, redes recorrentes)\n",
            "* Técnicas de treinamento de redes neurais (por exemplo, retropropagação, otimização de gradiente)\n",
            "* Aplicações de aprendizado profundo (por exemplo, reconhecimento de imagem, processamento de linguagem natural)\n",
            "\n",
            "**Processamento de Linguagem Natural (PNL)**\n",
            "\n",
            "* Conceitos de PNL (por exemplo, tokenização, análise sintática, semântica)\n",
            "* Técnicas de PNL (por exemplo, modelos de linguagem, processamento de texto)\n",
            "* Aplicações de PNL (por exemplo, tradução automática, geração de texto)\n",
            "\n",
            "**Aplicações da IA**\n",
            "\n",
            "* Indústrias e setores onde a IA é usada (por exemplo, saúde, finanças, manufatura)\n",
            "* Exemplos de aplicativos de IA (por exemplo, carros autônomos, assistentes virtuais, diagnósticos médicos)\n",
            "* Tendências e avanços emergentes em IA\n",
            "\n",
            "**Recursos de Aprendizagem**\n",
            "\n",
            "* Cursos online (por exemplo, Coursera, edX)\n",
            "* Livros e artigos acadêmicos\n",
            "* Tutoriais e documentação\n",
            "* Comunidades online e fóruns\n"
          ]
        }
      ]
    },
    {
      "cell_type": "code",
      "source": [
        "chat = model.start_chat(history=[])"
      ],
      "metadata": {
        "id": "fA3-Qcmd-lQx"
      },
      "execution_count": 10,
      "outputs": []
    },
    {
      "cell_type": "code",
      "source": [
        "prompt = input(\"Esperando prompt: \")\n",
        "\n",
        "while prompt != \"fim\":\n",
        "  response = chat.send_message(prompt)\n",
        "  print(\"Resposta: \", response.text, \"\\n\")\n",
        "  prompt = input(\"Esperando prompt: \")"
      ],
      "metadata": {
        "colab": {
          "base_uri": "https://localhost:8080/",
          "height": 731
        },
        "id": "41mKjbDK_EKj",
        "outputId": "53295caa-e6cc-46e7-e641-28b5cfecc2ef"
      },
      "execution_count": 12,
      "outputs": [
        {
          "name": "stdout",
          "output_type": "stream",
          "text": [
            "Esperando prompt: Qual é a capital do Haiti\n",
            "Resposta:  Porto Príncipe \n",
            "\n",
            "Esperando prompt: Qual é a comida desse país?\n",
            "Resposta:  **Pratos tradicionais haitianos:**\n",
            "\n",
            "* **Griot:** Carne de porco frita marinada em molho picante\n",
            "* **Diri ak djon djon:** Arroz com feijão preto\n",
            "* **Tassot:** Carne de cabra assada\n",
            "* **Poisson gros sel:** Peixe frito com sal grosso\n",
            "* **Pikliz:** Salada de repolho picante\n",
            "* **Legim:** Sopa de legumes\n",
            "* **Akasan:** Mingau de milho\n",
            "* **Pain patate:** Pão feito com batata-doce\n",
            "* **Lambi:** Concha cozida em molho picante\n",
            "* **Fritay:** Comida de rua frita, como bananas fritas, accras (bolinhos de bacalhau) e griot\n",
            "\n",
            "**Bebidas tradicionais:**\n",
            "\n",
            "* **Cremas:** Licor de frutas\n",
            "* **Barbancourt:** Rum\n",
            "* **Cleren:** Rum branco não envelhecido\n",
            "* **Limonada:** Suco de limão fresco\n",
            "* **Jus de gingembre:** Suco de gengibre\n",
            "* **Thé de groseille:** Chá de groselha\n",
            "\n",
            "**Sobremesas:**\n",
            "\n",
            "* **Dous makòs:** Doces de coco\n",
            "* **Bonbon sirop:** Doces de açúcar\n",
            "* **Tartelette:** Tortas doces\n",
            "* **Flan:** Pudim\n",
            "* **Fruits confits:** Frutas cristalizadas \n",
            "\n",
            "Esperando prompt: Qual é a populaçao dessa cidade?\n",
            "Resposta:  A população de **Porto Príncipe**, capital do Haiti, é estimada em cerca de **2,6 milhões de habitantes** em 2023.\n",
            "\n",
            "No entanto, é importante observar que os dados populacionais do Haiti podem ser imprecisos devido a desafios como falta de registros vitais confiáveis e desastres naturais frequentes. \n",
            "\n",
            "Esperando prompt: fim\n"
          ]
        }
      ]
    },
    {
      "cell_type": "code",
      "source": [
        "#Melhorando a visualização\n",
        "#Código disponível em https://ai.google.dev/tutorials/python_quickstart#import_packages\n",
        "import textwrap\n",
        "from IPython.display import display\n",
        "from IPython.display import Markdown\n",
        "\n",
        "def to_markdown(text):\n",
        "  text = text.replace('•', '  *')\n",
        "  return Markdown(textwrap.indent(text, '> ', predicate=lambda _: True))\n",
        "\n",
        "#Imprimindo o histórico\n",
        "for message in chat.history:\n",
        "  display(to_markdown(f'**{message.role}**: {message.parts[0].text}'))\n",
        "  print('-------------------------------------------')"
      ],
      "metadata": {
        "colab": {
          "base_uri": "https://localhost:8080/",
          "height": 863
        },
        "id": "RnWCeDfhD7xJ",
        "outputId": "4b7cd949-659b-448d-d87a-4921a1706fd5"
      },
      "execution_count": 13,
      "outputs": [
        {
          "output_type": "display_data",
          "data": {
            "text/plain": [
              "<IPython.core.display.Markdown object>"
            ],
            "text/markdown": "> **user**: Qual é a capital do Haiti"
          },
          "metadata": {}
        },
        {
          "output_type": "stream",
          "name": "stdout",
          "text": [
            "-------------------------------------------\n"
          ]
        },
        {
          "output_type": "display_data",
          "data": {
            "text/plain": [
              "<IPython.core.display.Markdown object>"
            ],
            "text/markdown": "> **model**: Porto Príncipe"
          },
          "metadata": {}
        },
        {
          "output_type": "stream",
          "name": "stdout",
          "text": [
            "-------------------------------------------\n"
          ]
        },
        {
          "output_type": "display_data",
          "data": {
            "text/plain": [
              "<IPython.core.display.Markdown object>"
            ],
            "text/markdown": "> **user**: Qual é a comida desse país?"
          },
          "metadata": {}
        },
        {
          "output_type": "stream",
          "name": "stdout",
          "text": [
            "-------------------------------------------\n"
          ]
        },
        {
          "output_type": "display_data",
          "data": {
            "text/plain": [
              "<IPython.core.display.Markdown object>"
            ],
            "text/markdown": "> **model**: **Pratos tradicionais haitianos:**\n> \n> * **Griot:** Carne de porco frita marinada em molho picante\n> * **Diri ak djon djon:** Arroz com feijão preto\n> * **Tassot:** Carne de cabra assada\n> * **Poisson gros sel:** Peixe frito com sal grosso\n> * **Pikliz:** Salada de repolho picante\n> * **Legim:** Sopa de legumes\n> * **Akasan:** Mingau de milho\n> * **Pain patate:** Pão feito com batata-doce\n> * **Lambi:** Concha cozida em molho picante\n> * **Fritay:** Comida de rua frita, como bananas fritas, accras (bolinhos de bacalhau) e griot\n> \n> **Bebidas tradicionais:**\n> \n> * **Cremas:** Licor de frutas\n> * **Barbancourt:** Rum\n> * **Cleren:** Rum branco não envelhecido\n> * **Limonada:** Suco de limão fresco\n> * **Jus de gingembre:** Suco de gengibre\n> * **Thé de groseille:** Chá de groselha\n> \n> **Sobremesas:**\n> \n> * **Dous makòs:** Doces de coco\n> * **Bonbon sirop:** Doces de açúcar\n> * **Tartelette:** Tortas doces\n> * **Flan:** Pudim\n> * **Fruits confits:** Frutas cristalizadas"
          },
          "metadata": {}
        },
        {
          "output_type": "stream",
          "name": "stdout",
          "text": [
            "-------------------------------------------\n"
          ]
        },
        {
          "output_type": "display_data",
          "data": {
            "text/plain": [
              "<IPython.core.display.Markdown object>"
            ],
            "text/markdown": "> **user**: Qual é a populaçao dessa cidade?"
          },
          "metadata": {}
        },
        {
          "output_type": "stream",
          "name": "stdout",
          "text": [
            "-------------------------------------------\n"
          ]
        },
        {
          "output_type": "display_data",
          "data": {
            "text/plain": [
              "<IPython.core.display.Markdown object>"
            ],
            "text/markdown": "> **model**: A população de **Porto Príncipe**, capital do Haiti, é estimada em cerca de **2,6 milhões de habitantes** em 2023.\n> \n> No entanto, é importante observar que os dados populacionais do Haiti podem ser imprecisos devido a desafios como falta de registros vitais confiáveis e desastres naturais frequentes."
          },
          "metadata": {}
        },
        {
          "output_type": "stream",
          "name": "stdout",
          "text": [
            "-------------------------------------------\n"
          ]
        }
      ]
    }
  ]
}